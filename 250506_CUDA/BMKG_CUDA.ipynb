{
  "nbformat": 4,
  "nbformat_minor": 0,
  "metadata": {
    "colab": {
      "provenance": [],
      "gpuType": "T4"
    },
    "kernelspec": {
      "name": "python3",
      "display_name": "Python 3"
    },
    "language_info": {
      "name": "python"
    },
    "accelerator": "GPU"
  },
  "cells": [
    {
      "cell_type": "code",
      "execution_count": 1,
      "metadata": {
        "colab": {
          "base_uri": "https://localhost:8080/"
        },
        "id": "vt0kSihl7jMw",
        "outputId": "ccfb5ea6-7d12-42c7-aceb-292cef8cca4f"
      },
      "outputs": [
        {
          "output_type": "stream",
          "name": "stdout",
          "text": [
            "Requirement already satisfied: pycuda in /usr/local/lib/python3.11/dist-packages (2025.1)\n",
            "Requirement already satisfied: pytools>=2011.2 in /usr/local/lib/python3.11/dist-packages (from pycuda) (2025.1.3)\n",
            "Requirement already satisfied: platformdirs>=2.2.0 in /usr/local/lib/python3.11/dist-packages (from pycuda) (4.3.7)\n",
            "Requirement already satisfied: mako in /usr/lib/python3/dist-packages (from pycuda) (1.1.3)\n",
            "Requirement already satisfied: siphash24>=1.6 in /usr/local/lib/python3.11/dist-packages (from pytools>=2011.2->pycuda) (1.7)\n",
            "Requirement already satisfied: typing-extensions>=4.5 in /usr/local/lib/python3.11/dist-packages (from pytools>=2011.2->pycuda) (4.13.2)\n"
          ]
        }
      ],
      "source": [
        "!pip install pycuda"
      ]
    },
    {
      "cell_type": "code",
      "source": [
        "import pycuda.autoinit\n",
        "import pycuda.driver as cuda\n",
        "from pycuda.compiler import SourceModule\n",
        "import numpy\n",
        "\n",
        "a = numpy.random.rand(4,4)\n",
        "a = a.astype(numpy.float32)\n",
        "a_gpu = cuda.mem_alloc(a.nbytes)\n",
        "cuda.memcpy_htod(a_gpu, a)\n",
        "\n",
        "mod = SourceModule(\"\"\"\n",
        "__global__    void doublify(float *a)\n",
        "{\n",
        "int idx = threadIdx.x + threadIdx.y*4; a[idx] *= 2;\n",
        "} \"\"\")\n",
        "\n",
        "func = mod.get_function(\"doublify\")\n",
        "func(a_gpu, block=(4,4,1))\n",
        "\n",
        "a_doubled = numpy.empty_like(a)\n",
        "cuda.memcpy_dtoh(a_doubled, a_gpu)\n",
        "print(a_doubled)\n",
        "print()\n",
        "print(a)"
      ],
      "metadata": {
        "colab": {
          "base_uri": "https://localhost:8080/"
        },
        "id": "4z7g3BRAGdJE",
        "outputId": "8d07e153-034f-464d-83e4-2bc847a077b4"
      },
      "execution_count": 2,
      "outputs": [
        {
          "output_type": "stream",
          "name": "stdout",
          "text": [
            "[[1.9444577  1.5796843  1.1110044  0.21615766]\n",
            " [0.6998384  0.12679993 1.5655054  1.5280898 ]\n",
            " [1.945969   1.7610545  1.6084149  0.25137708]\n",
            " [1.2713321  1.1102079  0.7167932  1.537399  ]]\n",
            "\n",
            "[[0.9722288  0.7898421  0.5555022  0.10807883]\n",
            " [0.3499192  0.06339996 0.7827527  0.7640449 ]\n",
            " [0.9729845  0.88052726 0.80420744 0.12568854]\n",
            " [0.6356661  0.55510396 0.3583966  0.7686995 ]]\n"
          ]
        }
      ]
    },
    {
      "cell_type": "code",
      "source": [
        "import pycuda.gpuarray as gpuarray\n",
        "import pycuda.driver as cuda\n",
        "import pycuda.autoinit\n",
        "import numpy\n",
        "\n",
        "a_gpu = gpuarray.to_gpu(numpy.random.randn(4,4).astype(numpy.float32))\n",
        "a_doubled = (2*a_gpu).get()\n",
        "print(a_doubled)\n",
        "print(a_gpu)"
      ],
      "metadata": {
        "colab": {
          "base_uri": "https://localhost:8080/"
        },
        "id": "aYvvJ3MmGlUv",
        "outputId": "9d22cfda-5e52-4da5-d85b-769b60b8d1e4"
      },
      "execution_count": 3,
      "outputs": [
        {
          "output_type": "stream",
          "name": "stdout",
          "text": [
            "[[ 2.3935096   1.0846727   0.22546715 -0.22514753]\n",
            " [ 0.45307636 -2.6983373  -3.8201966   1.9703609 ]\n",
            " [-1.3033754  -0.9054653  -5.29428    -2.3412793 ]\n",
            " [-2.6305134  -1.2719121  -1.9832766  -4.696423  ]]\n",
            "[[ 1.1967548   0.54233634  0.11273357 -0.11257377]\n",
            " [ 0.22653818 -1.3491687  -1.9100983   0.98518044]\n",
            " [-0.6516877  -0.45273265 -2.64714    -1.1706396 ]\n",
            " [-1.3152567  -0.63595605 -0.9916383  -2.3482115 ]]\n"
          ]
        }
      ]
    },
    {
      "cell_type": "code",
      "source": [
        "import pycuda.driver as drv\n",
        "import pycuda.tools\n",
        "import pycuda.autoinit\n",
        "import numpy\n",
        "import numpy.linalg as la\n",
        "from pycuda.compiler import SourceModule\n",
        "\n",
        "mod = SourceModule(\"\"\"\n",
        "__global__ void multiply_them(float *dest, float *a, float *b)\n",
        "{\n",
        "  const int i = threadIdx.x;\n",
        "  dest[i] = a[i] * b[i];\n",
        "}\n",
        "\"\"\")\n",
        "\n",
        "multiply_them = mod.get_function(\"multiply_them\")\n",
        "\n",
        "a = numpy.random.randn(400).astype(numpy.float32)\n",
        "b = numpy.random.randn(400).astype(numpy.float32)\n",
        "\n",
        "dest = numpy.zeros_like(a)\n",
        "multiply_them(\n",
        "        drv.Out(dest), drv.In(a), drv.In(b),\n",
        "        block=(400,1,1))\n",
        "\n",
        "print(dest-a*b)"
      ],
      "metadata": {
        "colab": {
          "base_uri": "https://localhost:8080/"
        },
        "id": "f2GNW3jJGnU6",
        "outputId": "c055f481-e1c7-49cf-8745-1d877f8a0572"
      },
      "execution_count": 4,
      "outputs": [
        {
          "output_type": "stream",
          "name": "stdout",
          "text": [
            "[0. 0. 0. 0. 0. 0. 0. 0. 0. 0. 0. 0. 0. 0. 0. 0. 0. 0. 0. 0. 0. 0. 0. 0.\n",
            " 0. 0. 0. 0. 0. 0. 0. 0. 0. 0. 0. 0. 0. 0. 0. 0. 0. 0. 0. 0. 0. 0. 0. 0.\n",
            " 0. 0. 0. 0. 0. 0. 0. 0. 0. 0. 0. 0. 0. 0. 0. 0. 0. 0. 0. 0. 0. 0. 0. 0.\n",
            " 0. 0. 0. 0. 0. 0. 0. 0. 0. 0. 0. 0. 0. 0. 0. 0. 0. 0. 0. 0. 0. 0. 0. 0.\n",
            " 0. 0. 0. 0. 0. 0. 0. 0. 0. 0. 0. 0. 0. 0. 0. 0. 0. 0. 0. 0. 0. 0. 0. 0.\n",
            " 0. 0. 0. 0. 0. 0. 0. 0. 0. 0. 0. 0. 0. 0. 0. 0. 0. 0. 0. 0. 0. 0. 0. 0.\n",
            " 0. 0. 0. 0. 0. 0. 0. 0. 0. 0. 0. 0. 0. 0. 0. 0. 0. 0. 0. 0. 0. 0. 0. 0.\n",
            " 0. 0. 0. 0. 0. 0. 0. 0. 0. 0. 0. 0. 0. 0. 0. 0. 0. 0. 0. 0. 0. 0. 0. 0.\n",
            " 0. 0. 0. 0. 0. 0. 0. 0. 0. 0. 0. 0. 0. 0. 0. 0. 0. 0. 0. 0. 0. 0. 0. 0.\n",
            " 0. 0. 0. 0. 0. 0. 0. 0. 0. 0. 0. 0. 0. 0. 0. 0. 0. 0. 0. 0. 0. 0. 0. 0.\n",
            " 0. 0. 0. 0. 0. 0. 0. 0. 0. 0. 0. 0. 0. 0. 0. 0. 0. 0. 0. 0. 0. 0. 0. 0.\n",
            " 0. 0. 0. 0. 0. 0. 0. 0. 0. 0. 0. 0. 0. 0. 0. 0. 0. 0. 0. 0. 0. 0. 0. 0.\n",
            " 0. 0. 0. 0. 0. 0. 0. 0. 0. 0. 0. 0. 0. 0. 0. 0. 0. 0. 0. 0. 0. 0. 0. 0.\n",
            " 0. 0. 0. 0. 0. 0. 0. 0. 0. 0. 0. 0. 0. 0. 0. 0. 0. 0. 0. 0. 0. 0. 0. 0.\n",
            " 0. 0. 0. 0. 0. 0. 0. 0. 0. 0. 0. 0. 0. 0. 0. 0. 0. 0. 0. 0. 0. 0. 0. 0.\n",
            " 0. 0. 0. 0. 0. 0. 0. 0. 0. 0. 0. 0. 0. 0. 0. 0. 0. 0. 0. 0. 0. 0. 0. 0.\n",
            " 0. 0. 0. 0. 0. 0. 0. 0. 0. 0. 0. 0. 0. 0. 0. 0.]\n"
          ]
        }
      ]
    },
    {
      "cell_type": "code",
      "source": [
        "# This code block is only for local machine without Colab\n",
        "\n",
        "import time\n",
        "import pycuda.driver as cuda\n",
        "import pycuda.autoinit\n",
        "from pycuda.compiler import SourceModule\n",
        "\n",
        "mod = SourceModule(\"\"\"\n",
        "    #include <stdio.h>\n",
        "\n",
        "    __global__ void say_hi_from_block()\n",
        "    {\n",
        "      printf(\"I am blockIdx.x:%d blockIdx.y:%d \\\\n\",blockIdx.x,blockIdx.y);\n",
        "    }\n",
        "\n",
        "    __global__ void say_hi_from_thread()\n",
        "    {\n",
        "      printf(\"I am threadIdx.x:%d threadIdx.y:%d blockIdx.x:%d blockIdx.y:%d\\\\n\",threadIdx.x,threadIdx.y,blockIdx.x,blockIdx.y);\n",
        "    }\n",
        "\n",
        "    __global__ void say_index_from_thread_block()\n",
        "    {\n",
        "      printf(\"I am Idx:%d threadIdx.x:%d blockIdx.x:%d \\\\n\",threadIdx.x + blockIdx.x * blockDim.x, threadIdx.x, blockIdx.x);\n",
        "    }\n",
        "\n",
        "    __global__ void say_index_from_thread_2d()\n",
        "    {\n",
        "      printf(\"I am Idx:%d threadIdx.x:%d threadIdx.y:%d \\\\n\",threadIdx.x + threadIdx.y * blockDim.x, threadIdx.x, threadIdx.y);\n",
        "    }\n",
        "    \"\"\")\n",
        "\n",
        "func_blk = mod.get_function(\"say_hi_from_block\")\n",
        "func_thd = mod.get_function(\"say_hi_from_thread\")\n",
        "func_idx_tb = mod.get_function(\"say_index_from_thread_block\")\n",
        "func_idx_t2 = mod.get_function(\"say_index_from_thread_2d\")\n",
        "\n",
        "func_blk(block=(1,1,1),grid=(10,1,1))\n",
        "time.sleep(1)\n",
        "print()\n",
        "func_blk(block=(1,1,1),grid=(2,2,1))\n",
        "time.sleep(1)\n",
        "print()\n",
        "func_blk(block=(2,1,1),grid=(2,1,1))\n",
        "time.sleep(1)\n",
        "print()\n",
        "\n",
        "print()\n",
        "func_thd(block=(3,3,1),grid=(1,1,1))\n",
        "time.sleep(1)\n",
        "print()\n",
        "func_thd(block=(3,1,1),grid=(2,1,1))\n",
        "time.sleep(1)\n",
        "print()\n",
        "\n",
        "\n",
        "print()\n",
        "func_idx_tb(block=(3,1,1),grid=(2,1,1))\n",
        "time.sleep(1)\n",
        "print()\n",
        "func_idx_tb(block=(3,2,1),grid=(1,1,1))\n",
        "time.sleep(1)\n",
        "print()\n",
        "\n",
        "print()\n",
        "func_idx_t2(block=(3,2,1),grid=(1,1,1))\n",
        "time.sleep(1)\n",
        "print()"
      ],
      "metadata": {
        "colab": {
          "base_uri": "https://localhost:8080/"
        },
        "id": "iI1OteLRGpSZ",
        "outputId": "3ef88491-6ae3-4aad-ed10-7e56bc8fdc19"
      },
      "execution_count": 10,
      "outputs": [
        {
          "output_type": "stream",
          "name": "stderr",
          "text": [
            "/usr/local/lib/python3.11/dist-packages/google/colab/_variable_inspector.py:27: UserWarning: module in out-of-thread context could not be cleaned up\n",
            "  globals().clear()\n"
          ]
        },
        {
          "output_type": "stream",
          "name": "stdout",
          "text": [
            "\n",
            "\n",
            "\n",
            "\n",
            "\n",
            "\n",
            "\n",
            "\n",
            "\n",
            "\n",
            "\n"
          ]
        }
      ]
    },
    {
      "cell_type": "code",
      "source": [
        "import numpy as np\n",
        "import pycuda.autoinit\n",
        "from pycuda import gpuarray\n",
        "from time import time\n",
        "\n",
        "\n",
        "t1 = time()\n",
        "#host_data = np.float32( np.random.random(5000) )\n",
        "host_data = np.float32( np.random.random(5000000) )\n",
        "#host_data = np.float32( np.random.random(500000000) )\n",
        "#host_data = np.float32( np.random.random(1000000000) )\n",
        "t2 = time()\n",
        "print(host_data.size)\n",
        "print('total time to  create on CPU: %f' % (t2 - t1))\n",
        "\n",
        "t1 = time()\n",
        "host_data_2x =  host_data * np.float32(2)\n",
        "t2 = time()\n",
        "\n",
        "print('total time to compute on CPU: %f' % (t2 - t1))\n",
        "\n",
        "t1 = time()\n",
        "device_data = gpuarray.to_gpu(host_data)\n",
        "pycuda.autoinit.context.synchronize()\n",
        "t2 = time()\n",
        "\n",
        "print('tranfer time from CPU to GPU: %f' % (t2 - t1))\n",
        "\n",
        "t1 = time()\n",
        "device_data_2x =  device_data * np.float32( 2 )\n",
        "pycuda.autoinit.context.synchronize()\n",
        "t2 = time()\n",
        "print('total time to compute on GPU: %f' % (t2 - t1))\n",
        "\n",
        "t1 = time()\n",
        "from_device = device_data_2x.get()\n",
        "pycuda.autoinit.context.synchronize()\n",
        "t2 = time()\n",
        "print('tranfer time from GPU to CPU: %f' % (t2 - t1))\n",
        "\n",
        "print('Is the host computation the same as the GPU computation? : {}'.format(np.allclose(from_device, host_data_2x) ))"
      ],
      "metadata": {
        "colab": {
          "base_uri": "https://localhost:8080/"
        },
        "id": "CnoUGZ8JGsNN",
        "outputId": "0f5da57a-d2d8-4516-bd2f-2dc5c2ac7085"
      },
      "execution_count": 6,
      "outputs": [
        {
          "output_type": "stream",
          "name": "stdout",
          "text": [
            "5000000\n",
            "total time to  create on CPU: 0.059807\n",
            "total time to compute on CPU: 0.007268\n",
            "tranfer time from CPU to GPU: 0.005695\n",
            "total time to compute on GPU: 0.000726\n",
            "tranfer time from GPU to CPU: 0.008514\n",
            "Is the host computation the same as the GPU computation? : True\n"
          ]
        }
      ]
    },
    {
      "cell_type": "code",
      "source": [
        "import pycuda.driver as drv\n",
        "import pycuda.autoinit\n",
        "for attr in drv.Device(0).get_attributes():\n",
        "    print(attr)\n",
        "\n",
        "\n",
        "print(\"MAX_BLOCK_DIM_X\", drv.Device(0).get_attribute(drv.device_attribute.MAX_BLOCK_DIM_X))\n",
        "print(\"MAX_BLOCK_DIM_Y\", drv.Device(0).get_attribute(drv.device_attribute.MAX_BLOCK_DIM_Y))\n",
        "print(\"MAX_BLOCK_DIM_Z\", drv.Device(0).get_attribute(drv.device_attribute.MAX_BLOCK_DIM_Z))\n",
        "\n",
        "print(\"MAX_GRID_DIM_X\", drv.Device(0).get_attribute(drv.device_attribute.MAX_GRID_DIM_X))\n",
        "print(\"MAX_GRID_DIM_Y\", drv.Device(0).get_attribute(drv.device_attribute.MAX_GRID_DIM_Y))\n",
        "print(\"MAX_GRID_DIM_Z\", drv.Device(0).get_attribute(drv.device_attribute.MAX_GRID_DIM_Z))"
      ],
      "metadata": {
        "colab": {
          "base_uri": "https://localhost:8080/"
        },
        "id": "sRgW1VI_G10X",
        "outputId": "2387e126-9386-41fc-92d8-f98911458d4a"
      },
      "execution_count": 7,
      "outputs": [
        {
          "output_type": "stream",
          "name": "stdout",
          "text": [
            "ASYNC_ENGINE_COUNT\n",
            "CAN_MAP_HOST_MEMORY\n",
            "CAN_USE_HOST_POINTER_FOR_REGISTERED_MEM\n",
            "CLOCK_RATE\n",
            "COMPUTE_CAPABILITY_MAJOR\n",
            "COMPUTE_CAPABILITY_MINOR\n",
            "COMPUTE_MODE\n",
            "COMPUTE_PREEMPTION_SUPPORTED\n",
            "CONCURRENT_KERNELS\n",
            "CONCURRENT_MANAGED_ACCESS\n",
            "DIRECT_MANAGED_MEM_ACCESS_FROM_HOST\n",
            "ECC_ENABLED\n",
            "GENERIC_COMPRESSION_SUPPORTED\n",
            "GLOBAL_L1_CACHE_SUPPORTED\n",
            "GLOBAL_MEMORY_BUS_WIDTH\n",
            "GPU_OVERLAP\n",
            "HANDLE_TYPE_POSIX_FILE_DESCRIPTOR_SUPPORTED\n",
            "HANDLE_TYPE_WIN32_HANDLE_SUPPORTED\n",
            "HANDLE_TYPE_WIN32_KMT_HANDLE_SUPPORTED\n",
            "HOST_NATIVE_ATOMIC_SUPPORTED\n",
            "INTEGRATED\n",
            "KERNEL_EXEC_TIMEOUT\n",
            "L2_CACHE_SIZE\n",
            "LOCAL_L1_CACHE_SUPPORTED\n",
            "MANAGED_MEMORY\n",
            "MAXIMUM_SURFACE1D_LAYERED_LAYERS\n",
            "MAXIMUM_SURFACE1D_LAYERED_WIDTH\n",
            "MAXIMUM_SURFACE1D_WIDTH\n",
            "MAXIMUM_SURFACE2D_HEIGHT\n",
            "MAXIMUM_SURFACE2D_LAYERED_HEIGHT\n",
            "MAXIMUM_SURFACE2D_LAYERED_LAYERS\n",
            "MAXIMUM_SURFACE2D_LAYERED_WIDTH\n",
            "MAXIMUM_SURFACE2D_WIDTH\n",
            "MAXIMUM_SURFACE3D_DEPTH\n",
            "MAXIMUM_SURFACE3D_HEIGHT\n",
            "MAXIMUM_SURFACE3D_WIDTH\n",
            "MAXIMUM_SURFACECUBEMAP_LAYERED_LAYERS\n",
            "MAXIMUM_SURFACECUBEMAP_LAYERED_WIDTH\n",
            "MAXIMUM_SURFACECUBEMAP_WIDTH\n",
            "MAXIMUM_TEXTURE1D_LAYERED_LAYERS\n",
            "MAXIMUM_TEXTURE1D_LAYERED_WIDTH\n",
            "MAXIMUM_TEXTURE1D_LINEAR_WIDTH\n",
            "MAXIMUM_TEXTURE1D_MIPMAPPED_WIDTH\n",
            "MAXIMUM_TEXTURE1D_WIDTH\n",
            "MAXIMUM_TEXTURE2D_ARRAY_HEIGHT\n",
            "MAXIMUM_TEXTURE2D_ARRAY_NUMSLICES\n",
            "MAXIMUM_TEXTURE2D_ARRAY_WIDTH\n",
            "MAXIMUM_TEXTURE2D_GATHER_HEIGHT\n",
            "MAXIMUM_TEXTURE2D_GATHER_WIDTH\n",
            "MAXIMUM_TEXTURE2D_HEIGHT\n",
            "MAXIMUM_TEXTURE2D_LINEAR_HEIGHT\n",
            "MAXIMUM_TEXTURE2D_LINEAR_PITCH\n",
            "MAXIMUM_TEXTURE2D_LINEAR_WIDTH\n",
            "MAXIMUM_TEXTURE2D_MIPMAPPED_HEIGHT\n",
            "MAXIMUM_TEXTURE2D_MIPMAPPED_WIDTH\n",
            "MAXIMUM_TEXTURE2D_WIDTH\n",
            "MAXIMUM_TEXTURE3D_DEPTH\n",
            "MAXIMUM_TEXTURE3D_DEPTH_ALTERNATE\n",
            "MAXIMUM_TEXTURE3D_HEIGHT\n",
            "MAXIMUM_TEXTURE3D_HEIGHT_ALTERNATE\n",
            "MAXIMUM_TEXTURE3D_WIDTH\n",
            "MAXIMUM_TEXTURE3D_WIDTH_ALTERNATE\n",
            "MAXIMUM_TEXTURECUBEMAP_LAYERED_LAYERS\n",
            "MAXIMUM_TEXTURECUBEMAP_LAYERED_WIDTH\n",
            "MAXIMUM_TEXTURECUBEMAP_WIDTH\n",
            "MAX_BLOCKS_PER_MULTIPROCESSOR\n",
            "MAX_BLOCK_DIM_X\n",
            "MAX_BLOCK_DIM_Y\n",
            "MAX_BLOCK_DIM_Z\n",
            "MAX_GRID_DIM_X\n",
            "MAX_GRID_DIM_Y\n",
            "MAX_GRID_DIM_Z\n",
            "MAX_PERSISTING_L2_CACHE_SIZE\n",
            "MAX_PITCH\n",
            "MAX_REGISTERS_PER_BLOCK\n",
            "MAX_REGISTERS_PER_MULTIPROCESSOR\n",
            "MAX_SHARED_MEMORY_PER_BLOCK\n",
            "MAX_SHARED_MEMORY_PER_BLOCK_OPTIN\n",
            "MAX_SHARED_MEMORY_PER_MULTIPROCESSOR\n",
            "MAX_THREADS_PER_BLOCK\n",
            "MAX_THREADS_PER_MULTIPROCESSOR\n",
            "MEMORY_CLOCK_RATE\n",
            "MEMORY_POOLS_SUPPORTED\n",
            "MULTIPROCESSOR_COUNT\n",
            "MULTI_GPU_BOARD\n",
            "MULTI_GPU_BOARD_GROUP_ID\n",
            "PAGEABLE_MEMORY_ACCESS\n",
            "PAGEABLE_MEMORY_ACCESS_USES_HOST_PAGE_TABLES\n",
            "PCI_BUS_ID\n",
            "PCI_DEVICE_ID\n",
            "PCI_DOMAIN_ID\n",
            "READ_ONLY_HOST_REGISTER_SUPPORTED\n",
            "RESERVED_SHARED_MEMORY_PER_BLOCK\n",
            "SINGLE_TO_DOUBLE_PRECISION_PERF_RATIO\n",
            "STREAM_PRIORITIES_SUPPORTED\n",
            "SURFACE_ALIGNMENT\n",
            "TCC_DRIVER\n",
            "TEXTURE_ALIGNMENT\n",
            "TEXTURE_PITCH_ALIGNMENT\n",
            "TOTAL_CONSTANT_MEMORY\n",
            "UNIFIED_ADDRESSING\n",
            "WARP_SIZE\n",
            "MAX_BLOCK_DIM_X 1024\n",
            "MAX_BLOCK_DIM_Y 1024\n",
            "MAX_BLOCK_DIM_Z 64\n",
            "MAX_GRID_DIM_X 2147483647\n",
            "MAX_GRID_DIM_Y 65535\n",
            "MAX_GRID_DIM_Z 65535\n"
          ]
        }
      ]
    },
    {
      "cell_type": "code",
      "source": [
        "import pycuda.gpuarray as gpuarray\n",
        "import pycuda.driver as drv\n",
        "import pycuda.autoinit\n",
        "import numpy as np\n",
        "\n",
        "from pycuda.compiler import SourceModule\n",
        "func_mod = SourceModule(\"\"\"\n",
        "__global__ void incr(float *a, int N)\n",
        "    {\n",
        "        int idx = threadIdx.x;\n",
        "//        printf(\"I am %d\\\\n\",threadIdx.x);\n",
        "        if (idx < N)\n",
        "            a[idx] = a[idx] + 1.0;\n",
        "    }\n",
        "\"\"\")\n",
        "\n",
        "incr = func_mod.get_function('incr')\n",
        "\n",
        "N = 10\n",
        "x = np.asarray(np.random.rand(N), np.float32)\n",
        "x_orig = x.copy()\n",
        "x_gpu = gpuarray.to_gpu(x)\n",
        "\n",
        "incr(x_gpu.gpudata, np.uint32(N), block=(N, 1, 1))\n",
        "print('x:       ', x)\n",
        "print('incr(x): ', x_gpu.get())"
      ],
      "metadata": {
        "colab": {
          "base_uri": "https://localhost:8080/"
        },
        "id": "U3dXQYY4HABc",
        "outputId": "71e2d162-090b-4d20-f04e-3c39a9ed1a99"
      },
      "execution_count": 8,
      "outputs": [
        {
          "output_type": "stream",
          "name": "stdout",
          "text": [
            "x:        [0.5693179  0.70197856 0.6196545  0.46012598 0.30368298 0.87067825\n",
            " 0.10977086 0.3589352  0.38942346 0.33129272]\n",
            "incr(x):  [1.5693178 1.7019786 1.6196544 1.4601259 1.303683  1.8706782 1.1097709\n",
            " 1.3589352 1.3894235 1.3312927]\n"
          ]
        }
      ]
    },
    {
      "cell_type": "code",
      "source": [
        "import numpy as np\n",
        "import pycuda.autoinit\n",
        "import pycuda.driver as drv\n",
        "from pycuda.compiler import SourceModule\n",
        "from pycuda import gpuarray as gp\n",
        "\n",
        "ker = SourceModule('''\n",
        "// matrix multiplication kernel that is parallelized over row/column tuples.\n",
        "__global__ void matrix_mult_ker(float * matrix_a, float * matrix_b, float * output_matrix, int N)\n",
        "{\n",
        "\n",
        "    int row = blockIdx.x*blockDim.x + threadIdx.x;\n",
        "    int col = blockIdx.y*blockDim.y + threadIdx.y;\n",
        "\n",
        "    for (int k=0; k < N; k++)\n",
        "    {\n",
        "       output_matrix[ col + row*N ] += matrix_a[ row*N + k ] * matrix_b[ col + k*N ];\n",
        "    }\n",
        "\n",
        "}\n",
        "''')\n",
        "matrix_mult_ker = ker.get_function(\"matrix_mult_ker\")\n",
        "\n",
        "size = 32\n",
        "myA = np.random.rand( size, size )\n",
        "myB = np.random.rand( size, size )\n",
        "\n",
        "gpuA = gp.to_gpu(np.float32(myA))\n",
        "gpuB = gp.to_gpu(np.float32(myB))\n",
        "gpuC = gp.empty_like(gpuA)\n",
        "\n",
        "# print(\"=\" * 80)\n",
        "# print(myA)\n",
        "# print(\"=\" * 80)\n",
        "# print(myB)\n",
        "\n",
        "myC = np.matmul(myA, myB)\n",
        "matrix_mult_ker( gpuA, gpuB, gpuC, np.int32(size), block=(size,size,1) )\n",
        "\n",
        "# print(\"=\" * 80)\n",
        "# print(myC)\n",
        "\n",
        "print( np.sum( np.abs(gpuC.get() - myC) ) )"
      ],
      "metadata": {
        "colab": {
          "base_uri": "https://localhost:8080/"
        },
        "id": "kyVEgKOGHU1k",
        "outputId": "29efacfa-d6d1-4a15-8fc1-63447fb9a272"
      },
      "execution_count": 9,
      "outputs": [
        {
          "output_type": "stream",
          "name": "stdout",
          "text": [
            "0.0005446255471133199\n"
          ]
        }
      ]
    },
    {
      "cell_type": "code",
      "source": [
        "import pycuda.autoinit\n",
        "import pycuda.curandom as curandom\n",
        "\n",
        "size = 1000\n",
        "a = curandom.rand((size,)).get()\n",
        "\n",
        "from matplotlib.pylab import *\n",
        "subplot(211)\n",
        "plot(a)\n",
        "grid(True)\n",
        "ylabel('plot - gpu')\n",
        "\n",
        "subplot(212)\n",
        "hist(a, 100)\n",
        "grid(True)\n",
        "ylabel('histogram - gpu')\n",
        "\n",
        "show('plot-random-data')"
      ],
      "metadata": {
        "colab": {
          "base_uri": "https://localhost:8080/",
          "height": 430
        },
        "id": "twpysJC8INFE",
        "outputId": "fcb8c0ed-5131-4ad0-eb32-5bc34a464303"
      },
      "execution_count": 10,
      "outputs": [
        {
          "output_type": "display_data",
          "data": {
            "text/plain": [
              "<Figure size 640x480 with 2 Axes>"
            ],
            "image/png": "[encoded data removed]"
          },
          "metadata": {}
        }
      ]
    },
    {
      "cell_type": "code",
      "source": [
        "import numpy\n",
        "import pycuda.autoinit\n",
        "import pycuda.driver as cuda\n",
        "from pycuda.compiler import SourceModule\n",
        "\n",
        "mod = SourceModule(\"\"\"\n",
        "#include<math.h>\n",
        "__global__ void manhattan(  int* result, int width, int height, float x, float y) {\n",
        "    int xIndex = blockDim.x * blockIdx.x + threadIdx.x;\n",
        "    int yIndex = blockDim.y * blockIdx.y + threadIdx.y;\n",
        "    int flatIndex = xIndex + width * yIndex;\n",
        "    //printf(\"%d\\\\n\",flatIndex);\n",
        "    result[flatIndex] = abs(xIndex-x) + abs(yIndex-y);\n",
        "}\n",
        "__global__ void euclidean(  int* result, int width, int height, float x, float y) {\n",
        "    int xIndex = blockDim.x * blockIdx.x + threadIdx.x;\n",
        "    int yIndex = blockDim.y * blockIdx.y + threadIdx.y;\n",
        "    int flatIndex = xIndex + width * yIndex;\n",
        "    //printf(\"%d\\\\n\",flatIndex);\n",
        "    result[flatIndex] = round(sqrt((xIndex-x)*(xIndex-x) + (yIndex-y)*(yIndex-y)));\n",
        "}\n",
        "__global__ void chebyshev(  int* result, int width, int height, float x, float y) {\n",
        "    int xIndex = blockDim.x * blockIdx.x + threadIdx.x;\n",
        "    int yIndex = blockDim.y * blockIdx.y + threadIdx.y;\n",
        "    int flatIndex = xIndex + width * yIndex;\n",
        "    //printf(\"%d\\\\n\",flatIndex);\n",
        "    result[flatIndex] = max(abs(xIndex-x),abs(yIndex-y));\n",
        "}\n",
        "\"\"\")\n",
        "\n",
        "mhn_func   = mod.get_function(\"manhattan\")\n",
        "eun_func   = mod.get_function(\"euclidean\")\n",
        "chv_func   = mod.get_function(\"chebyshev\")\n",
        "\n",
        "def mhn_distance(res):\n",
        "    x = numpy.float32(2)\n",
        "    y = numpy.float32(1)\n",
        "    height, width = numpy.int32(len(res)), numpy.int32(len(res[0]))\n",
        "    mhn_func(\n",
        "        cuda.InOut(res),\n",
        "        width,\n",
        "        height,x,y,\n",
        "        block=(nx,ny,1)\n",
        "        )\n",
        "\n",
        "def eun_distance(res):\n",
        "    x = numpy.float32(2)\n",
        "    y = numpy.float32(1)\n",
        "    height, width = numpy.int32(len(res)), numpy.int32(len(res[0]))\n",
        "    eun_func(\n",
        "        cuda.InOut(res),\n",
        "        width,\n",
        "        height,x,y,\n",
        "        block=(nx,ny,1)\n",
        "        )\n",
        "\n",
        "def chv_distance(res):\n",
        "    x = numpy.float32(2)\n",
        "    y = numpy.float32(1)\n",
        "    height, width = numpy.int32(len(res)), numpy.int32(len(res[0]))\n",
        "    chv_func(\n",
        "        cuda.InOut(res),\n",
        "        width,\n",
        "        height,x,y,\n",
        "        block=(nx,ny,1)\n",
        "        )\n",
        "\n",
        "nx = 7\n",
        "ny = 5\n",
        "res = numpy.zeros( (ny,nx), dtype='int32')\n",
        "print(res)\n",
        "print(\"=================\")\n",
        "mhn_distance(res)\n",
        "print(res)\n",
        "print(\"=================\")\n",
        "res = numpy.zeros( (ny,nx), dtype='int32')\n",
        "eun_distance(res)\n",
        "print(res)\n",
        "print(\"=================\")\n",
        "res = numpy.zeros( (ny,nx), dtype='int32')\n",
        "chv_distance(res)\n",
        "print(res)"
      ],
      "metadata": {
        "colab": {
          "base_uri": "https://localhost:8080/"
        },
        "id": "u_PKRuw0Ia1Q",
        "outputId": "9125ec24-10a1-4de1-dbeb-77649db2aa9e"
      },
      "execution_count": 11,
      "outputs": [
        {
          "output_type": "stream",
          "name": "stdout",
          "text": [
            "[[0 0 0 0 0 0 0]\n",
            " [0 0 0 0 0 0 0]\n",
            " [0 0 0 0 0 0 0]\n",
            " [0 0 0 0 0 0 0]\n",
            " [0 0 0 0 0 0 0]]\n",
            "=================\n",
            "[[3 2 1 2 3 4 5]\n",
            " [2 1 0 1 2 3 4]\n",
            " [3 2 1 2 3 4 5]\n",
            " [4 3 2 3 4 5 6]\n",
            " [5 4 3 4 5 6 7]]\n",
            "=================\n",
            "[[2 1 1 1 2 3 4]\n",
            " [2 1 0 1 2 3 4]\n",
            " [2 1 1 1 2 3 4]\n",
            " [3 2 2 2 3 4 4]\n",
            " [4 3 3 3 4 4 5]]\n",
            "=================\n",
            "[[2 1 1 1 2 3 4]\n",
            " [2 1 0 1 2 3 4]\n",
            " [2 1 1 1 2 3 4]\n",
            " [2 2 2 2 2 3 4]\n",
            " [3 3 3 3 3 3 4]]\n"
          ]
        }
      ]
    },
    {
      "cell_type": "code",
      "source": [
        "# matrix multiplication with cupy\n",
        "\n",
        "import numpy as np\n",
        "import cupy  as cp\n",
        "\n",
        "size = 2\n",
        "myA = np.random.rand( size, size )\n",
        "myB = np.random.rand( size, size )\n",
        "\n",
        "myC = np.dot(myA, myB)\n",
        "\n",
        "myA_gpu = cp.asarray( myA )\n",
        "myB_gpu = cp.asarray( myB )\n",
        "myC_gpu = cp.dot( myA, myB )\n",
        "\n",
        "myC_cpu = cp.asnumpy( myC_gpu )\n",
        "\n",
        "print( np.min( np.abs(myC_cpu - myC) ) )"
      ],
      "metadata": {
        "colab": {
          "base_uri": "https://localhost:8080/"
        },
        "id": "bowwEUWGw7o9",
        "outputId": "a1148b1e-d93d-4e3b-f9f6-8586a31b0b6d"
      },
      "execution_count": 12,
      "outputs": [
        {
          "output_type": "stream",
          "name": "stdout",
          "text": [
            "0.0\n"
          ]
        }
      ]
    },
    {
      "cell_type": "code",
      "source": [
        "# comparison between numpy and cupy\n",
        "\n",
        "import numpy as np\n",
        "import cupy  as cp\n",
        "\n",
        "N = 10\n",
        "M =  5\n",
        "\n",
        "X_cpu = np.random.rand( N, N )\n",
        "Y_cpu = np.random.rand( N, M )\n",
        "Z_cpu = np.dot( X_cpu, Y_cpu )\n",
        "\n",
        "print(sum(sum(Z_cpu)))\n",
        "\n",
        "X_gpu = cp.random.rand( N, N )\n",
        "Y_gpu = cp.random.rand( N, M )\n",
        "Z_gpu = cp.dot( X_gpu, Y_gpu)\n",
        "\n",
        "print(sum(sum(Z_gpu)))"
      ],
      "metadata": {
        "colab": {
          "base_uri": "https://localhost:8080/"
        },
        "id": "NghSyhx5F12V",
        "outputId": "ebff28f1-543e-4696-8ff1-f264dc8325fc"
      },
      "execution_count": 13,
      "outputs": [
        {
          "output_type": "stream",
          "name": "stdout",
          "text": [
            "140.88454036804364\n",
            "125.02283627281419\n"
          ]
        }
      ]
    },
    {
      "cell_type": "code",
      "source": [
        "# comparison between numpy and cupy\n",
        "\n",
        "import numpy as np\n",
        "import cupy  as cp\n",
        "from time import time\n",
        "\n",
        "N = 10000  # 40000\n",
        "M = 10000  # 40000\n",
        "\n",
        "X_cpu = np.random.rand( N, N )\n",
        "Y_cpu = np.random.rand( N, M )\n",
        "\n",
        "t1 = time()\n",
        "Z_cpu = np.dot( X_cpu, Y_cpu )\n",
        "t2 = time()\n",
        "\n",
        "print(sum(sum(Z_cpu)))\n",
        "print(t2-t1)\n",
        "\n",
        "X_gpu = cp.random.rand( N, N )\n",
        "Y_gpu = cp.random.rand( N, M )\n",
        "\n",
        "t1 = time()\n",
        "Z_gpu = cp.dot( X_gpu, Y_gpu)\n",
        "t2 = time()\n",
        "\n",
        "print(sum(sum(Z_gpu)))\n",
        "print(t2-t1)"
      ],
      "metadata": {
        "colab": {
          "base_uri": "https://localhost:8080/"
        },
        "id": "XrR6xBT2GH8_",
        "outputId": "e22a4fc8-4d80-4f5f-ce28-793e2da4d1a1"
      },
      "execution_count": 1,
      "outputs": [
        {
          "output_type": "stream",
          "name": "stdout",
          "text": [
            "250008693073.0176\n",
            "37.41579723358154\n",
            "249984588007.5665\n",
            "0.7278614044189453\n"
          ]
        }
      ]
    },
    {
      "cell_type": "code",
      "source": [
        "# cupy kernal 1\n",
        "\n",
        "import cupy  as cp\n",
        "import numpy as np\n",
        "\n",
        "squared_diff = cp.ElementwiseKernel(\n",
        "        'float32 x, float32 y',\n",
        "        'float32 z',\n",
        "        'z = (x - y) * (x - y)',\n",
        "        'squred_diff'\n",
        "        )\n",
        "\n",
        "x = cp.arange(10, dtype=np.float32).reshape(2, 5)\n",
        "y = cp.arange(5,  dtype=np.float32)\n",
        "\n",
        "z = squared_diff(x, y)\n",
        "\n",
        "print(x)\n",
        "print(y)\n",
        "print(z)"
      ],
      "metadata": {
        "colab": {
          "base_uri": "https://localhost:8080/"
        },
        "id": "IHRRUYhJGMGx",
        "outputId": "c8d29784-b5e9-4a25-ec58-db20eed82c04"
      },
      "execution_count": 2,
      "outputs": [
        {
          "output_type": "stream",
          "name": "stdout",
          "text": [
            "[[0. 1. 2. 3. 4.]\n",
            " [5. 6. 7. 8. 9.]]\n",
            "[0. 1. 2. 3. 4.]\n",
            "[[ 0.  0.  0.  0.  0.]\n",
            " [25. 25. 25. 25. 25.]]\n"
          ]
        }
      ]
    },
    {
      "cell_type": "code",
      "source": [
        "# cupy kernal 2\n",
        "\n",
        "import cupy  as cp\n",
        "import numpy as np\n",
        "\n",
        "add_reverse = cp.ElementwiseKernel(\n",
        "        'T x, raw T y',\n",
        "        'T z',\n",
        "        'z = x + y[_ind.size() - i - 1]',\n",
        "        'add_reverse'\n",
        "        )\n",
        "\n",
        "x = cp.arange(5, dtype=np.float32)\n",
        "y = cp.arange(5, dtype=np.float32)\n",
        "\n",
        "z = add_reverse(x, y)\n",
        "\n",
        "print(x)\n",
        "print(y)\n",
        "print(z)"
      ],
      "metadata": {
        "colab": {
          "base_uri": "https://localhost:8080/"
        },
        "id": "TiantkrNGQCY",
        "outputId": "a43c06a2-f2a7-448a-d04d-1557a7119f20"
      },
      "execution_count": 3,
      "outputs": [
        {
          "output_type": "stream",
          "name": "stdout",
          "text": [
            "[0. 1. 2. 3. 4.]\n",
            "[0. 1. 2. 3. 4.]\n",
            "[4. 4. 4. 4. 4.]\n"
          ]
        }
      ]
    },
    {
      "cell_type": "code",
      "source": [
        "# cupy kernal 3\n",
        "\n",
        "import cupy  as cp\n",
        "import numpy as np\n",
        "\n",
        "l2norm = cp.ReductionKernel(\n",
        "        'T x',\n",
        "        'T y',\n",
        "        'x * x',\n",
        "        'a + b',\n",
        "        'y = sqrt(a)',\n",
        "        '0',\n",
        "        'l2norm'\n",
        "        )\n",
        "\n",
        "x = cp.arange(5, dtype=np.float32)\n",
        "\n",
        "y = l2norm(x)\n",
        "\n",
        "print(x)\n",
        "print(y)"
      ],
      "metadata": {
        "colab": {
          "base_uri": "https://localhost:8080/"
        },
        "id": "U75ibapTGTbM",
        "outputId": "6e3d46a9-1659-4d53-f581-d02e3671ad8b"
      },
      "execution_count": 4,
      "outputs": [
        {
          "output_type": "stream",
          "name": "stdout",
          "text": [
            "[0. 1. 2. 3. 4.]\n",
            "5.477226\n"
          ]
        }
      ]
    },
    {
      "cell_type": "code",
      "source": [
        "# cupy kernal 4\n",
        "\n",
        "import cupy  as cp\n",
        "import numpy as np\n",
        "\n",
        "square_kernel = cp.RawKernel(r'''\n",
        "extern \"C\" __global__ void my_square(long long* x) {\n",
        "    int tid = threadIdx.x;\n",
        "    x[tid] *= x[tid];\n",
        "}\n",
        "''', name='my_square')\n",
        "\n",
        "x = cp.arange(5)\n",
        "print(x)\n",
        "\n",
        "square_kernel(grid=(1,), block=(5,), args=(x,))\n",
        "print(x)"
      ],
      "metadata": {
        "colab": {
          "base_uri": "https://localhost:8080/"
        },
        "id": "fy-wFU6LGYQ5",
        "outputId": "6ac67d66-e547-4601-f331-8a67b3f3dae2"
      },
      "execution_count": 5,
      "outputs": [
        {
          "output_type": "stream",
          "name": "stdout",
          "text": [
            "[0 1 2 3 4]\n",
            "[ 0  1  4  9 16]\n"
          ]
        }
      ]
    }
  ]
}